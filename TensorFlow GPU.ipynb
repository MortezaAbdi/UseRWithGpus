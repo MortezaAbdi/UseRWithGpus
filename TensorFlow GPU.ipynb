{
 "cells": [
  {
   "cell_type": "markdown",
   "metadata": {},
   "source": [
    "# GPUs - Setup the Environment\n",
    "The first time you run this command you'll need to install keras.  If you want GPU support then add the parameter `tensorflow = \"gpu\"`"
   ]
  },
  {
   "cell_type": "code",
   "execution_count": null,
   "metadata": {},
   "outputs": [],
   "source": [
    "library(keras)\n",
    "# install_keras(tensorflow = \"gpu\") <- one time only"
   ]
  },
  {
   "cell_type": "markdown",
   "metadata": {},
   "source": [
    "# GPUs - Get Your Data\n",
    "We're using the mnist dataset, splitting it up into testing and training sets"
   ]
  },
  {
   "cell_type": "code",
   "execution_count": null,
   "metadata": {},
   "outputs": [],
   "source": [
    "mnist <- dataset_mnist()\n",
    "x_train <- mnist$train$x\n",
    "y_train <- mnist$train$y\n",
    "x_test <- mnist$test$x\n",
    "y_test <- mnist$test$y\n",
    "\n",
    "# reshape\n",
    "x_train <- array_reshape(x_train, c(nrow(x_train), 784))\n",
    "x_test <- array_reshape(x_test, c(nrow(x_test), 784))\n",
    "# rescale\n",
    "x_train <- x_train / 255\n",
    "x_test <- x_test / 255\n",
    "\n",
    "y_train <- to_categorical(y_train, 10)\n",
    "y_test <- to_categorical(y_test, 10)"
   ]
  },
  {
   "cell_type": "markdown",
   "metadata": {},
   "source": [
    "# GPUs - Design your Model and Train it\n",
    "We set the desired shape of our neural network and kick off the training run"
   ]
  },
  {
   "cell_type": "code",
   "execution_count": null,
   "metadata": {},
   "outputs": [],
   "source": [
    "# Design the Model\n",
    "\n",
    "model <- keras_model_sequential() \n",
    "\n",
    "model %>% \n",
    "  layer_dense(units = 256, activation = 'relu', input_shape = c(784)) %>% \n",
    "  layer_dropout(rate = 0.2) %>% \n",
    "  layer_dense(units = 128, activation = 'relu') %>%\n",
    "  layer_dropout(rate = 0.3) %>%\n",
    "  layer_dense(units = 10, activation = 'softmax')\n",
    "\n",
    "model %>% compile(\n",
    "  loss = 'categorical_crossentropy',\n",
    "  optimizer = optimizer_rmsprop(),\n",
    "  metrics = c('accuracy')\n",
    ")\n",
    "\n",
    "pt <- proc.time()\n",
    "\n",
    "# Train it!\n",
    "history <- model %>% fit(\n",
    "  x_train, y_train,\n",
    "  epochs = 10, batch_size = 128,\n",
    "  validation_split = 0.2\n",
    ")\n",
    "\n",
    "elapsed_time <- (proc.time() - pt)[[\"elapsed\"]]\n",
    "cat(\"\\nElapsed time = \", elapsed_time, \" seconds\")\n",
    "\n",
    "plot(history)"
   ]
  },
  {
   "cell_type": "markdown",
   "metadata": {},
   "source": [
    "# GPU - Wider Layers"
   ]
  },
  {
   "cell_type": "code",
   "execution_count": null,
   "metadata": {},
   "outputs": [],
   "source": [
    "# Design the Model\n",
    "\n",
    "model <- keras_model_sequential() \n",
    "\n",
    "model %>% \n",
    "  layer_dense(units = 4096, activation = 'relu', input_shape = c(784)) %>% \n",
    "  layer_dropout(rate = 0.2) %>% \n",
    "  layer_dense(units = 128, activation = 'relu') %>%\n",
    "  layer_dropout(rate = 0.3) %>%\n",
    "  layer_dense(units = 10, activation = 'softmax')\n",
    "\n",
    "model %>% compile(\n",
    "  loss = 'categorical_crossentropy',\n",
    "  optimizer = optimizer_rmsprop(),\n",
    "  metrics = c('accuracy')\n",
    ")\n",
    "\n",
    "pt <- proc.time()\n",
    "\n",
    "# Train it!\n",
    "history <- model %>% fit(\n",
    "  x_train, y_train,\n",
    "  epochs = 10, batch_size = 128,\n",
    "  validation_split = 0.2\n",
    ")\n",
    "\n",
    "elapsed_time <- (proc.time() - pt)[[\"elapsed\"]]\n",
    "cat(\"\\nElapsed time = \", elapsed_time, \" seconds\")\n",
    "\n",
    "plot(history)"
   ]
  },
  {
   "cell_type": "markdown",
   "metadata": {},
   "source": [
    "# CPU - Bigger Batches"
   ]
  },
  {
   "cell_type": "code",
   "execution_count": null,
   "metadata": {},
   "outputs": [],
   "source": [
    "# Design the Model\n",
    "\n",
    "model <- keras_model_sequential() \n",
    "\n",
    "model %>% \n",
    "  layer_dense(units = 4096, activation = 'relu', input_shape = c(784)) %>% \n",
    "  layer_dropout(rate = 0.2) %>% \n",
    "  layer_dense(units = 128, activation = 'relu') %>%\n",
    "  layer_dropout(rate = 0.3) %>%\n",
    "  layer_dense(units = 10, activation = 'softmax')\n",
    "\n",
    "model %>% compile(\n",
    "  loss = 'categorical_crossentropy',\n",
    "  optimizer = optimizer_rmsprop(),\n",
    "  metrics = c('accuracy')\n",
    ")\n",
    "\n",
    "pt <- proc.time()\n",
    "\n",
    "# Train it!\n",
    "history <- model %>% fit(\n",
    "  x_train, y_train,\n",
    "  epochs = 10, batch_size = 512, # was 128\n",
    "  validation_split = 0.2\n",
    ")\n",
    "\n",
    "elapsed_time <- (proc.time() - pt)[[\"elapsed\"]]\n",
    "cat(\"\\nElapsed time = \", elapsed_time, \" seconds\")\n",
    "\n",
    "plot(history)"
   ]
  },
  {
   "cell_type": "code",
   "execution_count": null,
   "metadata": {},
   "outputs": [],
   "source": []
  }
 ],
 "metadata": {
  "kernelspec": {
   "display_name": "R",
   "language": "R",
   "name": "ir"
  },
  "language_info": {
   "codemirror_mode": "r",
   "file_extension": ".r",
   "mimetype": "text/x-r-source",
   "name": "R",
   "pygments_lexer": "r",
   "version": "3.6.1"
  }
 },
 "nbformat": 4,
 "nbformat_minor": 4
}
